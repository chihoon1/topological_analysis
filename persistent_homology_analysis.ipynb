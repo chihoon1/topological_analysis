{
 "cells": [
  {
   "cell_type": "code",
   "execution_count": 1,
   "id": "0ed4442d",
   "metadata": {},
   "outputs": [],
   "source": [
    "import matplotlib.pyplot as plt\n",
    "import seaborn as sns\n",
    "from persistent_vector import *\n",
    "from homology import compute_Homology_k\n",
    "from persistent_homology import metric_space_to_PHk_Xr\n",
    "from sklearn.datasets import make_circles"
   ]
  },
  {
   "cell_type": "markdown",
   "id": "e21c2cb4",
   "metadata": {},
   "source": [
    "$$\n",
    "Here,\\ I\\ will\\ compute\\ the\\ 0th\\ and\\ 1st\\ persistent\\  homology\\ denoted\\ PH_{0}(X)_{r}\\\\ or\\ PH_{1}(X)_{r}\\ for\\ the\\ given\\ finite\\ metric\\ space\\ data\\ set\\ (X,d).\n",
    "$$\n",
    "\n",
    "\n",
    "$$\n",
    "The\\ dataset\\ I\\ used\\ to\\ test\\ the\\ algorithm\\ I\\ programmed\\ is\\ consist\\ of\\ 17\\ data\\ points\\\n",
    "$$\n",
    "$$\n",
    "which\\ form\\ an\\ unit\\ circle\\ with\\ some\\ marginal\\ errors\\ in\\ R^{2}.\n",
    "$$"
   ]
  },
  {
   "cell_type": "markdown",
   "id": "7d6f618a",
   "metadata": {},
   "source": [
    "Here are the steps I took to compute the persistent homology:\n",
    "1. Turn finite metric space data into abstract complex (Viterois Rips Complex)\n",
    "2. Combine all VR complex to make a finite persistent vector space\n",
    "3. Get boundary matrix of chain complex Ck and Ck+1 and do row_reduction\n",
    "4. Compute the dimension of ker and img of boundary maps dk and dk+1 to get dim H_k(X)_r for fixed r\n",
    "5. Compute the dimension of H_k(X)_r for all r (if needed)"
   ]
  },
  {
   "cell_type": "markdown",
   "id": "6d357e54",
   "metadata": {},
   "source": [
    "Form data (unit circle in R2 but with some marginal errors around the circle)"
   ]
  },
  {
   "cell_type": "code",
   "execution_count": 2,
   "id": "8599e4b0",
   "metadata": {},
   "outputs": [
    {
     "data": {
      "text/plain": [
       "<Axes: >"
      ]
     },
     "execution_count": 2,
     "metadata": {},
     "output_type": "execute_result"
    },
    {
     "data": {
      "image/png": "[encoded data removed]",
      "text/plain": [
       "<Figure size 900x900 with 1 Axes>"
      ]
     },
     "metadata": {},
     "output_type": "display_data"
    }
   ],
   "source": [
    "from sklearn.datasets import make_circles\n",
    "# form a data (unit circle in R2 but with some marginal errors around the circle)\n",
    "data = make_circles(n_samples=17, shuffle=True, noise=None, random_state=0, factor=0.99)[0]\n",
    "for i in range(len(data)):\n",
    "    error = np.random.uniform(low=-0.1, high=0.1, size=2)\n",
    "    data[i] += error\n",
    "    \n",
    "plt.figure(figsize=(9,9))\n",
    "sns.scatterplot(x=data[:,0], y=data[:,1])"
   ]
  },
  {
   "cell_type": "markdown",
   "id": "9f6a06d7",
   "metadata": {},
   "source": [
    "Get all possible finite number of r"
   ]
  },
  {
   "cell_type": "code",
   "execution_count": 3,
   "id": "06555efa",
   "metadata": {
    "scrolled": true
   },
   "outputs": [
    {
     "name": "stdout",
     "output_type": "stream",
     "text": [
      "[0.0, 0.0285998, 0.0438838, 0.0848084, 0.1201767, 0.1476219, 0.1812398, 0.2381227, 0.3400895, 0.3768145, 0.4172539, 0.4922599, 0.5513419, 0.5639688, 0.5806118, 0.5966613, 0.625216, 0.6478715, 0.6620544, 0.6730396, 0.6772554, 0.6809879, 0.681286, 0.7098532, 0.7190925, 0.721644, 0.7301647, 0.7556809, 0.7680476, 0.7689143, 0.7863414, 0.7868621, 0.8010667, 0.8055974, 0.8116677, 0.8122401, 0.8263076, 0.8437062, 0.8848872, 0.9106738, 0.9303895, 0.9620488, 0.9854155, 1.017199, 1.082954, 1.1076525, 1.1162223, 1.1328232, 1.1601004, 1.1965343, 1.2325693, 1.258365, 1.2856014, 1.2865714, 1.2960136, 1.3112303, 1.3350139, 1.3620816, 1.3644837, 1.3681511, 1.3730043, 1.3831891, 1.3894219, 1.3972654, 1.4057522, 1.412113, 1.4511746, 1.4511996, 1.455453, 1.4694638, 1.4838647, 1.4848775, 1.4871873, 1.4950575, 1.5309732, 1.547427, 1.5603126, 1.5783412, 1.5823031, 1.5923126, 1.6166814, 1.6205371, 1.6272086, 1.6646364, 1.6812146, 1.6861471, 1.6974215, 1.7158417, 1.7472024, 1.7625141, 1.7693357, 1.7694981, 1.7947835, 1.7954485, 1.7994418, 1.8125947, 1.8303663, 1.8317158, 1.8480101, 1.8578185, 1.8585598, 1.8623669, 1.8627049, 1.8692953, 1.8710982, 1.8843396, 1.886351, 1.8906768, 1.892803, 1.9037874, 1.9174067, 1.9183154, 1.9186481, 1.9250402, 1.9271042, 1.9285549, 1.9285652, 1.9467792, 1.9512743, 1.9533556, 1.9583151, 1.9793804, 1.987511, 1.9891845, 1.9917126, 1.9950998, 2.0015727, 2.015404, 2.0157202, 2.0182417, 2.0246481, 2.0382424, 2.0541576, 2.0633264, 2.0826441, 2.0831378, 2.1270392]\n"
     ]
    }
   ],
   "source": [
    "adjacency_matrix = get_adjacency_matrix(data)\n",
    "finite_set_of_r = sorted(set(adjacency_matrix.flatten()))\n",
    "print(finite_set_of_r)"
   ]
  },
  {
   "cell_type": "markdown",
   "id": "76a2d121",
   "metadata": {},
   "source": [
    "Applying the algorithms to our example data set"
   ]
  },
  {
   "cell_type": "markdown",
   "id": "35db1eb5",
   "metadata": {},
   "source": [
    "Case where fixed value of r was given for computing k-th persistent homology of VR(x[r])"
   ]
  },
  {
   "cell_type": "code",
   "execution_count": 4,
   "id": "7c259466",
   "metadata": {},
   "outputs": [
    {
     "name": "stdout",
     "output_type": "stream",
     "text": [
      "0-th persistent homology\n",
      "r value:\n",
      "1.3644837\n",
      "0-th persistent homology of r=1.3644837:\n",
      "1\n",
      "r value:\n",
      "1.7694981\n",
      "0-th persistent homology of r=1.7694981:\n",
      "1\n",
      "r value:\n",
      "1.6812146\n",
      "0-th persistent homology of r=1.6812146:\n",
      "1\n",
      "\n",
      "1-th persistent homology\n",
      "r value:\n",
      "0.8116677\n",
      "1-th persistent homology of r=0.8116677:\n",
      "7\n",
      "r value:\n",
      "1.2856014\n",
      "1-th persistent homology of r=1.2856014:\n",
      "16\n",
      "r value:\n",
      "1.4950575\n",
      "1-th persistent homology of r=1.4950575:\n",
      "16\n"
     ]
    }
   ],
   "source": [
    "# three examples of k-th PH(X)r with fixed values of r\n",
    "n = len(finite_set_of_r) - 1\n",
    "# 0-th persistent homology for fixed r\n",
    "print(\"0-th persistent homology\")\n",
    "r, phk_X = metric_space_to_PHk_Xr(data, 0, r=finite_set_of_r[np.random.randint(0,n)]) \n",
    "print(f\"r value:\\n{r}\")\n",
    "print(f\"0-th persistent homology of r={r}:\\n{phk_X}\")\n",
    "r, phk_X = metric_space_to_PHk_Xr(data, 0, r=finite_set_of_r[np.random.randint(0,n)]) \n",
    "print(f\"r value:\\n{r}\")\n",
    "print(f\"0-th persistent homology of r={r}:\\n{phk_X}\")\n",
    "r, phk_X = metric_space_to_PHk_Xr(data, 0, r=finite_set_of_r[np.random.randint(0,n)]) \n",
    "print(f\"r value:\\n{r}\")\n",
    "print(f\"0-th persistent homology of r={r}:\\n{phk_X}\\n\")\n",
    "\n",
    "# 1-th persistent homology for all finite number of r\n",
    "print(\"1-th persistent homology\")\n",
    "r, phk_X = metric_space_to_PHk_Xr(data, 1, r=finite_set_of_r[np.random.randint(0,n)]) \n",
    "print(f\"r value:\\n{r}\")\n",
    "print(f\"1-th persistent homology of r={r}:\\n{phk_X}\")\n",
    "r, phk_X = metric_space_to_PHk_Xr(data, 1, r=finite_set_of_r[np.random.randint(0,n)]) \n",
    "print(f\"r value:\\n{r}\")\n",
    "print(f\"1-th persistent homology of r={r}:\\n{phk_X}\")\n",
    "r, phk_X = metric_space_to_PHk_Xr(data, 1, r=finite_set_of_r[np.random.randint(0,n)]) \n",
    "print(f\"r value:\\n{r}\")\n",
    "print(f\"1-th persistent homology of r={r}:\\n{phk_X}\")"
   ]
  },
  {
   "cell_type": "code",
   "execution_count": 5,
   "id": "1db2cc19",
   "metadata": {},
   "outputs": [
    {
     "name": "stdout",
     "output_type": "stream",
     "text": [
      "all possible r values:\n",
      "[0.0, 0.0285998, 0.0438838, 0.0848084, 0.1201767, 0.1476219, 0.1812398, 0.2381227, 0.3400895, 0.3768145, 0.4172539, 0.4922599, 0.5513419, 0.5639688, 0.5806118, 0.5966613, 0.625216, 0.6478715, 0.6620544, 0.6730396, 0.6772554, 0.6809879, 0.681286, 0.7098532, 0.7190925, 0.721644, 0.7301647, 0.7556809, 0.7680476, 0.7689143, 0.7863414, 0.7868621, 0.8010667, 0.8055974, 0.8116677, 0.8122401, 0.8263076, 0.8437062, 0.8848872, 0.9106738, 0.9303895, 0.9620488, 0.9854155, 1.017199, 1.082954, 1.1076525, 1.1162223, 1.1328232, 1.1601004, 1.1965343, 1.2325693, 1.258365, 1.2856014, 1.2865714, 1.2960136, 1.3112303, 1.3350139, 1.3620816, 1.3644837, 1.3681511, 1.3730043, 1.3831891, 1.3894219, 1.3972654, 1.4057522, 1.412113, 1.4511746, 1.4511996, 1.455453, 1.4694638, 1.4838647, 1.4848775, 1.4871873, 1.4950575, 1.5309732, 1.547427, 1.5603126, 1.5783412, 1.5823031, 1.5923126, 1.6166814, 1.6205371, 1.6272086, 1.6646364, 1.6812146, 1.6861471, 1.6974215, 1.7158417, 1.7472024, 1.7625141, 1.7693357, 1.7694981, 1.7947835, 1.7954485, 1.7994418, 1.8125947, 1.8303663, 1.8317158, 1.8480101, 1.8578185, 1.8585598, 1.8623669, 1.8627049, 1.8692953, 1.8710982, 1.8843396, 1.886351, 1.8906768, 1.892803, 1.9037874, 1.9174067, 1.9183154, 1.9186481, 1.9250402, 1.9271042, 1.9285549, 1.9285652, 1.9467792, 1.9512743, 1.9533556, 1.9583151, 1.9793804, 1.987511, 1.9891845, 1.9917126, 1.9950998, 2.0015727, 2.015404, 2.0157202, 2.0182417, 2.0246481, 2.0382424, 2.0541576, 2.0633264, 2.0826441, 2.0831378, 2.1270392]\n",
      "0-th persistent homology in the ascending order of r:\n",
      "[17, 16, 15, 14, 13, 12, 11, 10, 9, 8, 7, 6, 5, 5, 5, 4, 4, 3, 2, 2, 2, 1, 1, 1, 1, 1, 1, 1, 1, 1, 1, 1, 1, 1, 1, 1, 1, 1, 1, 1, 1, 1, 1, 1, 1, 1, 1, 1, 1, 1, 1, 1, 1, 1, 1, 1, 1, 1, 1, 1, 1, 1, 1, 1, 1, 1, 1, 1, 1, 1, 1, 1, 1, 1, 1, 1, 1, 1, 1, 1, 1, 1, 1, 1, 1, 1, 1, 1, 1, 1, 1, 1, 1, 1, 1, 1, 1, 1, 1, 1, 1, 1, 1, 1, 1, 1, 1, 1, 1, 1, 1, 1, 1, 1, 1, 1, 1, 1, 1, 1, 1, 1, 1, 1, 1, 1, 1, 1, 1, 1, 1, 1, 1, 1, 1, 1, 1]\n",
      "all possible r values:\n",
      "[0.0, 0.0285998, 0.0438838, 0.0848084, 0.1201767, 0.1476219, 0.1812398, 0.2381227, 0.3400895, 0.3768145, 0.4172539, 0.4922599, 0.5513419, 0.5639688, 0.5806118, 0.5966613, 0.625216, 0.6478715, 0.6620544, 0.6730396, 0.6772554, 0.6809879, 0.681286, 0.7098532, 0.7190925, 0.721644, 0.7301647, 0.7556809, 0.7680476, 0.7689143, 0.7863414, 0.7868621, 0.8010667, 0.8055974, 0.8116677, 0.8122401, 0.8263076, 0.8437062, 0.8848872, 0.9106738, 0.9303895, 0.9620488, 0.9854155, 1.017199, 1.082954, 1.1076525, 1.1162223, 1.1328232, 1.1601004, 1.1965343, 1.2325693, 1.258365, 1.2856014, 1.2865714, 1.2960136, 1.3112303, 1.3350139, 1.3620816, 1.3644837, 1.3681511, 1.3730043, 1.3831891, 1.3894219, 1.3972654, 1.4057522, 1.412113, 1.4511746, 1.4511996, 1.455453, 1.4694638, 1.4838647, 1.4848775, 1.4871873, 1.4950575, 1.5309732, 1.547427, 1.5603126, 1.5783412, 1.5823031, 1.5923126, 1.6166814, 1.6205371, 1.6272086, 1.6646364, 1.6812146, 1.6861471, 1.6974215, 1.7158417, 1.7472024, 1.7625141, 1.7693357, 1.7694981, 1.7947835, 1.7954485, 1.7994418, 1.8125947, 1.8303663, 1.8317158, 1.8480101, 1.8578185, 1.8585598, 1.8623669, 1.8627049, 1.8692953, 1.8710982, 1.8843396, 1.886351, 1.8906768, 1.892803, 1.9037874, 1.9174067, 1.9183154, 1.9186481, 1.9250402, 1.9271042, 1.9285549, 1.9285652, 1.9467792, 1.9512743, 1.9533556, 1.9583151, 1.9793804, 1.987511, 1.9891845, 1.9917126, 1.9950998, 2.0015727, 2.015404, 2.0157202, 2.0182417, 2.0246481, 2.0382424, 2.0541576, 2.0633264, 2.0826441, 2.0831378, 2.1270392]\n",
      "1-th persistent homology in the ascending order of r:\n",
      "[0, 0, 0, 0, 0, 0, 0, 0, 0, 0, 0, 0, 0, 0, 0, 1, 1, 1, 1, 1, 1, 2, 2, 2, 2, 2, 2, 3, 4, 4, 5, 5, 5, 7, 7, 7, 7, 7, 7, 7, 7, 9, 9, 12, 12, 12, 12, 16, 17, 17, 17, 16, 16, 14, 14, 13, 14, 15, 15, 18, 18, 19, 19, 19, 20, 20, 19, 19, 19, 19, 19, 18, 18, 16, 16, 16, 18, 18, 18, 18, 18, 18, 18, 18, 18, 18, 18, 20, 20, 18, 17, 17, 19, 20, 20, 21, 19, 23, 23, 22, 23, 17, 17, 17, 18, 19, 20, 21, 21, 22, 22, 22, 24, 18, 18, 18, 19, 19, 19, 19, 20, 20, 20, 20, 20, 20, 19, 19, 19, 19, 19, 19, 19, 19, 19, 19, 5]\n"
     ]
    }
   ],
   "source": [
    "# now applying the algorithms to our example data set for all r\n",
    "# 0-th persistent homology for all finite number of r\n",
    "all_r, phk_X = metric_space_to_PHk_Xr(data,0)\n",
    "print(f\"all possible r values:\\n{all_r}\")\n",
    "print(f\"0-th persistent homology in the ascending order of r:\\n{phk_X}\")\n",
    "# 1-th persistent homology for all finite number of r\n",
    "all_r, phk_X = metric_space_to_PHk_Xr(data,1)\n",
    "print(f\"all possible r values:\\n{all_r}\")\n",
    "print(f\"1-th persistent homology in the ascending order of r:\\n{phk_X}\")\n"
   ]
  },
  {
   "cell_type": "markdown",
   "id": "87e983a6",
   "metadata": {},
   "source": [
    "Conclusion:\n",
    "\n",
    "0-th persistent homology becomes 1 as r>=0.649508. This is consistent with the scatter plot of our data. When r is sufficiently large, the points in the data set forms a circle and this represents one connected component in 0-th homology. Therefore, 0-th persistent homology well captured this information in data.\n",
    "\n",
    "1-st persistent homology represents the number of empty 2-simplices(triangle). The number of hollow trianlges is increasing and maxed at r=1.7973056. After that, it seems that the number of hollow trainagles slowly decreases and suddenly drop at r=2.1070383."
   ]
  },
  {
   "cell_type": "code",
   "execution_count": null,
   "id": "0445f8d7",
   "metadata": {},
   "outputs": [],
   "source": []
  }
 ],
 "metadata": {
  "kernelspec": {
   "display_name": "Python 3 (ipykernel)",
   "language": "python",
   "name": "python3"
  },
  "language_info": {
   "codemirror_mode": {
    "name": "ipython",
    "version": 3
   },
   "file_extension": ".py",
   "mimetype": "text/x-python",
   "name": "python",
   "nbconvert_exporter": "python",
   "pygments_lexer": "ipython3",
   "version": "3.9.18"
  }
 },
 "nbformat": 4,
 "nbformat_minor": 5
}
